{
 "cells": [
  {
   "cell_type": "code",
   "execution_count": 1,
   "metadata": {},
   "outputs": [],
   "source": [
    "import os"
   ]
  },
  {
   "cell_type": "code",
   "execution_count": 2,
   "metadata": {},
   "outputs": [],
   "source": [
    "def get_list_of_files(base_dir):\n",
    "    list_of_lists = []\n",
    "    patients = os.listdir(base_dir)\n",
    "    for p in patients:\n",
    "        if (p.startswith(\"mr_\") or p.startswith(\"augmented_mr\")) and not(p.endswith(\"_label_sorted.mha\")):\n",
    "            list_of_lists.append(os.path.join(base_dir, p))\n",
    "    print(\"Found %d patients\" % len(list_of_lists))\n",
    "    return list_of_lists"
   ]
  },
  {
   "cell_type": "code",
   "execution_count": 3,
   "metadata": {},
   "outputs": [],
   "source": [
    "# mr_seg_center_rai.csv\n",
    "# mr_test_all.txt\n",
    "# mr_train_all.txt\n",
    "base_dir = '/usr/not-backed-up2/scsad/DL/MedicalDataAugmentationTool/bin/experiments/semantic_segmentation/mmwhs/mmwhs_dataset/mr_mha/'"
   ]
  },
  {
   "cell_type": "code",
   "execution_count": 4,
   "metadata": {},
   "outputs": [
    {
     "name": "stdout",
     "output_type": "stream",
     "text": [
      "Found 80 patients\n"
     ]
    }
   ],
   "source": [
    "lis_images = get_list_of_files(base_dir)"
   ]
  },
  {
   "cell_type": "code",
   "execution_count": 5,
   "metadata": {},
   "outputs": [
    {
     "name": "stdout",
     "output_type": "stream",
     "text": [
      "['augmented_mr_train_1001_image.mha', 'augmented_mr_train_1002_image.mha', 'augmented_mr_train_1003_image.mha', 'augmented_mr_train_1004_image.mha', 'augmented_mr_train_1005_image.mha', 'augmented_mr_train_1006_image.mha', 'augmented_mr_train_1007_image.mha', 'augmented_mr_train_1008_image.mha', 'augmented_mr_train_1009_image.mha', 'augmented_mr_train_1010_image.mha', 'augmented_mr_train_1011_image.mha', 'augmented_mr_train_1012_image.mha', 'augmented_mr_train_1013_image.mha', 'augmented_mr_train_1014_image.mha', 'augmented_mr_train_1015_image.mha', 'augmented_mr_train_1016_image.mha', 'augmented_mr_train_1017_image.mha', 'augmented_mr_train_1018_image.mha', 'augmented_mr_train_1019_image.mha', 'augmented_mr_train_1020_image.mha', 'mr_train_1001_image.mha', 'mr_train_1002_image.mha', 'mr_train_1003_image.mha', 'mr_train_1004_image.mha', 'mr_train_1005_image.mha', 'mr_train_1006_image.mha', 'mr_train_1007_image.mha', 'mr_train_1008_image.mha', 'mr_train_1009_image.mha', 'mr_train_1010_image.mha', 'mr_train_1011_image.mha', 'mr_train_1012_image.mha', 'mr_train_1013_image.mha', 'mr_train_1014_image.mha', 'mr_train_1015_image.mha', 'mr_train_1016_image.mha', 'mr_train_1017_image.mha', 'mr_train_1018_image.mha', 'mr_train_1019_image.mha', 'mr_train_1020_image.mha']\n"
     ]
    }
   ],
   "source": [
    "all_train = []\n",
    "all_test = []\n",
    "for i in lis_images:\n",
    "    name = i.split('/')[-1:][0]\n",
    "    if name.startswith(\"augmented_mr_train_\") or name.startswith(\"mr_train_\"):\n",
    "        all_train.append(name)\n",
    "    if name.startswith(\"mr_test_\"):\n",
    "        all_test.append(name)\n",
    "\n",
    "print(all_train)"
   ]
  },
  {
   "cell_type": "code",
   "execution_count": 6,
   "metadata": {},
   "outputs": [],
   "source": [
    "# Saving all training name images\n",
    "with open('mr_train_all.txt', 'w') as f:\n",
    "    for item in all_train:\n",
    "        f.write(\"%s\\n\" % item[0:-10]) # Deleting format and _image in the names"
   ]
  },
  {
   "cell_type": "code",
   "execution_count": null,
   "metadata": {},
   "outputs": [],
   "source": [
    "# Saving all test name images\n",
    "with open('mr_test_all.txt', 'w') as f:\n",
    "    for item in all_test:\n",
    "        f.write(\"%s\\n\" % item[0:-10]) # Deleting format and _image in the names"
   ]
  }
 ],
 "metadata": {
  "kernelspec": {
   "display_name": "Python (envGUT)",
   "language": "python",
   "name": "envgut"
  },
  "language_info": {
   "codemirror_mode": {
    "name": "ipython",
    "version": 3
   },
   "file_extension": ".py",
   "mimetype": "text/x-python",
   "name": "python",
   "nbconvert_exporter": "python",
   "pygments_lexer": "ipython3",
   "version": "3.6.1"
  }
 },
 "nbformat": 4,
 "nbformat_minor": 2
}
