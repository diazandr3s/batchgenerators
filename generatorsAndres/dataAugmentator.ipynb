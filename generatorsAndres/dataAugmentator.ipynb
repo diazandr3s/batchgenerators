{
 "cells": [
  {
   "cell_type": "code",
   "execution_count": null,
   "metadata": {},
   "outputs": [],
   "source": [
    "import numpy as np\n",
    "import SimpleITK as sitk\n",
    "import itk\n",
    "import os\n",
    "from scipy import signal\n",
    "from skimage.transform import resize"
   ]
  },
  {
   "cell_type": "code",
   "execution_count": null,
   "metadata": {},
   "outputs": [],
   "source": [
    "def get_list_of_files(base_dir):\n",
    "\n",
    "    list_of_lists = []\n",
    "    patients = os.listdir(base_dir)\n",
    "    for p in patients:\n",
    "        if p.startswith(\"mr_train_\") and p.endswith(\"_label.nii.gz\"):\n",
    "            list_of_lists.append(os.path.join(base_dir, p))\n",
    "    print(\"Found %d patients\" % len(list_of_lists))\n",
    "    return list_of_lists\n",
    "\n",
    "def load_img(dir_img):\n",
    "    # load SimpleITK Image\n",
    "    img_sitk = sitk.ReadImage(dir_img)\n",
    "    \n",
    "    print(\"Pixel Type    {}\".format(img_sitk.GetPixelID()))\n",
    "    print(\"Size          {}\".format(img_sitk.GetSize()))\n",
    "    print(\"Origin        {}\".format(img_sitk.GetOrigin()))\n",
    "    print(\"Spacing       {}\".format(img_sitk.GetSpacing()))\n",
    "    print(\"Direction     {}\".format(img_sitk.GetDirection()))\n",
    "\n",
    "    # get pixel arrays from SimpleITK images\n",
    "    img_npy = sitk.GetArrayFromImage(img_sitk)\n",
    "\n",
    "    # get some metadata\n",
    "    spacing = img_sitk.GetSpacing()\n",
    "    # the spacing returned by SimpleITK is in inverse order relative to the numpy array we receive. If we wanted to\n",
    "    # resample the data and if the spacing was not isotropic (in BraTS all cases have already been resampled to 1x1x1mm\n",
    "    # by the organizers) then we need to pay attention here. Therefore we bring the spacing into the correct order so\n",
    "    # that spacing[0] actually corresponds to the spacing of the first axis of the numpy array\n",
    "    spacing = np.array(spacing)[::-1]\n",
    "    direction = img_sitk.GetDirection()\n",
    "    origin = img_sitk.GetOrigin()\n",
    "\n",
    "    original_shape = img_npy.shape\n",
    "    \n",
    "    metadata = {\n",
    "    'spacing': spacing,\n",
    "    'direction': direction,\n",
    "    'origin': origin,\n",
    "    'original_shape': original_shape\n",
    "    }\n",
    "    \n",
    "    return img_sitk, img_npy, metadata  \n",
    "\n",
    "\n",
    "def reorient_to_rai(image):\n",
    "    filter = itk.OrientImageFilter.New(image)\n",
    "    filter.UseImageDirectionOn()\n",
    "    filter.SetInput(image)\n",
    "    m = itk.Matrix[itk.D, 3, 3]()\n",
    "    m.SetIdentity()\n",
    "    filter.SetDesiredCoordinateDirection(m)\n",
    "    filter.Update()\n",
    "    return filter.GetOutput()\n",
    "\n",
    "   \n",
    "\n",
    "\n",
    "def resample(image, transform):\n",
    "    # Output image Origin, Spacing, Size, Direction are taken from the reference\n",
    "    # image in this call to Resample\n",
    "    reference_image = image\n",
    "    interpolator = sitk.sitkCosineWindowedSinc\n",
    "    default_value = 100.0\n",
    "    return sitk.Resample(image, reference_image, transform,\n",
    "                         interpolator, default_value)    \n",
    "\n",
    "\n",
    "\n",
    "def affine_scale(transform, x_scale=3.0, y_scale=0.7):\n",
    "    new_transform = sitk.AffineTransform(transform)\n",
    "    print(np.array(transform.GetMatrix()).shape)\n",
    "    matrix = np.array(transform.GetMatrix()).reshape((3,3))\n",
    "    matrix[0,0] = x_scale\n",
    "    matrix[1,1] = y_scale\n",
    "    new_transform.SetMatrix(matrix.ravel())\n",
    "    resampled = resample(img_sitk, new_transform)\n",
    "    return resampled\n",
    "\n",
    "\n",
    "def save_as_nii(img_npy, img_name, metadata):\n",
    "    sitk_image = sitk.GetImageFromArray(img_npy)\n",
    "    sitk_image.SetDirection(metadata['direction'])\n",
    "    sitk_image.SetOrigin(metadata['origin'])\n",
    "    # remember to revert spacing back to sitk order again\n",
    "    sitk_image.SetSpacing(tuple(metadata['spacing'][[1, 2, 0]]))\n",
    "    sitk.WriteImage(sitk_image, img_name)      "
   ]
  },
  {
   "cell_type": "code",
   "execution_count": null,
   "metadata": {},
   "outputs": [],
   "source": [
    "base_dir = '/usr/not-backed-up2/scsad/DL/MedicalDataAugmentationTool/bin/experiments/semantic_segmentation/mmwhs/TODO_mr'\n",
    "list_of_files = get_list_of_files(base_dir)\n",
    "dir_img = list_of_files[19]\n",
    "print(dir_img)"
   ]
  },
  {
   "cell_type": "code",
   "execution_count": null,
   "metadata": {},
   "outputs": [],
   "source": [
    "img_sitk, img_npy, metadata = load_img(dir_img)"
   ]
  },
  {
   "cell_type": "code",
   "execution_count": null,
   "metadata": {},
   "outputs": [],
   "source": [
    "def affine_rotate(transform, degrees=45.0):\n",
    "    parameters = np.array(transform.GetParameters())\n",
    "    new_transform = sitk.AffineTransform(transform)\n",
    "    print(np.array(transform.GetMatrix()))\n",
    "    matrix = np.array(transform.GetMatrix()).reshape((3,3))\n",
    "    radians = -np.pi * degrees / 180.\n",
    "    rotation = np.array([[np.cos(radians), -np.sin(radians), 0], \n",
    "                         [np.sin(radians), np.cos(radians), 0], \n",
    "                         [0, 0, 1]])  # https://stackoverflow.com/questions/9187387/3d-rotation-on-image\n",
    "    new_matrix = np.dot(rotation, matrix)\n",
    "    new_transform.SetMatrix(new_matrix.ravel())\n",
    "    resampled = resample(img_sitk, new_transform)\n",
    "    return resampled\n",
    "    \n",
    "affine = sitk.AffineTransform(3)\n",
    "\n",
    "resu = affine_rotate(affine)"
   ]
  },
  {
   "cell_type": "code",
   "execution_count": null,
   "metadata": {},
   "outputs": [],
   "source": [
    "print(type(resu))\n",
    "sitk.WriteImage(resu, 'label_affine_' + list_of_files[19].split('/')[11:][0][0:-7] + '.nii.gz', True) "
   ]
  },
  {
   "cell_type": "code",
   "execution_count": null,
   "metadata": {},
   "outputs": [],
   "source": [
    "new_img_npy = signal.resample(img_npy, 16, axis=0)\n",
    "img_resized = np.array([resize(i, (350, 350), anti_aliasing=True) for i in new_img_npy]).astype(np.float32)\n",
    "print(img_npy.shape)\n",
    "print(img_resized.shape)\n",
    "save_as_nii(img_resized, 'modified_' + list_of_files[19].split('/')[11:][0][0:-7] + '.nii.gz', metadata)"
   ]
  },
  {
   "cell_type": "code",
   "execution_count": null,
   "metadata": {},
   "outputs": [],
   "source": [
    "image = itk.imread(dir_img)\n",
    "reoriented = reorient_to_rai(image)\n",
    "itk.imwrite(reoriented, 'reoriented_' + list_of_files[19].split('/')[11:][0][0:-7] + '.nii.gz')"
   ]
  }
 ],
 "metadata": {
  "kernelspec": {
   "display_name": "Python (envGUT)",
   "language": "python",
   "name": "envgut"
  },
  "language_info": {
   "codemirror_mode": {
    "name": "ipython",
    "version": 3
   },
   "file_extension": ".py",
   "mimetype": "text/x-python",
   "name": "python",
   "nbconvert_exporter": "python",
   "pygments_lexer": "ipython3",
   "version": "3.6.1"
  }
 },
 "nbformat": 4,
 "nbformat_minor": 2
}
